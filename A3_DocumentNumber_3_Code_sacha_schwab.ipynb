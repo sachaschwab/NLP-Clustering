{
 "cells": [
  {
   "cell_type": "markdown",
   "metadata": {},
   "source": [
    "### JCU MA5851\n",
    "<p style=\"line-height: 1.5; font-size:12pt\">\n",
    "    Student:   Sacha Schwab <br>\n",
    "    Location:  Zurich, Switzerland<br>\n",
    "    Date:      8 December 2021\n",
    "</p>\n",
    "\n",
    "\n",
    "# Assessment 3 - Code for Part Three (NLP)\n",
    "\n",
    "<b style=\"line-height: 1.5; font-size:12pt\">Code structure:</b>\n",
    "<p style=\"line-height: 1.5; font-size:12pt\">\n",
    "Imports and necessary functions for a standard model build pipeline are defined, then the pipeline function runs these jobs:<br>\n",
    "Pipeline:<br>\n",
    "\n",
    "<ul style=\"line-height: 1.5; font-size:12pt\">\n",
    "  <li>Data wrangling<br>\n",
    "        - preprocess<br>\n",
    "        - visualise + describe corpus<br></li>\n",
    "  <li>NLP<br>\n",
    "        - vectorise<br>\n",
    "        - add entities<br>\n",
    "        - add sentiments<br></li>\n",
    "  <li>Machine learning<br>\n",
    "        - build hdbscan model<br>\n",
    "        - save model</p></li>\n",
    "</ul>   \n",
    "\n",
    "<b style=\"line-height: 1.5; font-size:14pt\">Please note:</b>\n",
    "<ul style=\"line-height: 1.5; font-size:12pt\">\n",
    "  <li>Code integrates model evaluation. Since dbscan was also evaluated I will leave the respective code in case of interest.</li>\n",
    "  <li>This is the tutorial-style code. \"daily_jobs\" folder has the code version for dev/ops team, i.e. for<br>\n",
    "            - running the daily model build job (logically with preliminary preprocessing + nlp steps)<br>\n",
    "            - model use</li>\n",
    "   <li>Flaw in the naming of dataframe columns: 'title_prepped' should actually be named 'title_corpus', etc. Due to available time running out I was not able to correct this. Will happen in the next release.</li>\n",
    "   <li>Also a little flaw: 'text' below actually means 'body_text' of the articles.</li>\n",
    "</ul>"
   ]
  },
  {
   "cell_type": "markdown",
   "metadata": {},
   "source": [
    "## Data wrangling"
   ]
  },
  {
   "cell_type": "code",
   "execution_count": null,
   "metadata": {},
   "outputs": [],
   "source": [
    "# Imports and downloads\n",
    "import pandas as pd\n",
    "import numpy as np\n",
    "\n",
    "import os\n",
    "import pickle\n",
    "import hdbscan\n",
    "import seaborn as sns\n",
    "from pylab import rcParams\n",
    "from datetime import datetime\n",
    "import matplotlib.pyplot as plt\n",
    "%matplotlib inline \n",
    "\n",
    "from pprint import pprint\n",
    "from string import digits\n",
    "\n",
    "from sklearn.cluster import DBSCAN\n",
    "from sklearn.metrics import silhouette_score\n",
    "from sklearn.preprocessing import MinMaxScaler\n",
    "from sklearn.metrics.pairwise import linear_kernel\n",
    "from sklearn.model_selection import train_test_split\n",
    "from sklearn.feature_extraction.text import TfidfVectorizer\n",
    "\n",
    "import nltk\n",
    "from nltk.tag import pos_tag\n",
    "from nltk.corpus import stopwords\n",
    "from nltk.probability import FreqDist\n",
    "from nltk.stem import WordNetLemmatizer\n",
    "from nltk.tokenize import word_tokenize\n",
    "from transformers import BertTokenizer, BertModel\n",
    "from nltk.chunk import conlltags2tree, tree2conlltags\n",
    "from nltk.sentiment.vader import SentimentIntensityAnalyzer\n",
    "\n",
    "nltk.download('punkt')\n",
    "nltk.download('vader_lexicon')\n",
    "nltk.download('averaged_perceptron_tagger')\n",
    "\n",
    "import spacy\n",
    "from spacy import displacy\n",
    "from collections import Counter\n",
    "# Get the following with: python -m spacy download en_core_web_sm\n",
    "import en_core_web_sm"
   ]
  },
  {
   "cell_type": "code",
   "execution_count": 4,
   "metadata": {},
   "outputs": [],
   "source": [
    "# Static values\n",
    "dir_path = 'data/'\n",
    "raw_file_name = 'raw_data.csv'\n",
    "stop_words = stopwords.words('english')"
   ]
  },
  {
   "cell_type": "code",
   "execution_count": 5,
   "metadata": {
    "tags": []
   },
   "outputs": [],
   "source": [
    "# Under construction \n",
    "def lemmatize(text):\n",
    "    lemmatizer = WordNetLemmatizer()\n",
    "    lem_text = []\n",
    "    for word in text.split():\n",
    "        lem_word = lemmatizer.lemmatize(word)\n",
    "        lem_text.append(lem_word)\n",
    "    return(lem_text)\n",
    "\n",
    "def lower_text(text):\n",
    "    return(text.lower())\n",
    "\n",
    "def erase_symbols(text):\n",
    "    symbols = \"!\\\"#$%&()*+-—,/<=>?@[\\]^_`{|}~\\n\"\n",
    "    out_text = out_text.replace(i, ' ')\n",
    "    return(out_text)\n",
    "\n",
    "def erase_stopwords(text):\n",
    "    return 0"
   ]
  },
  {
   "cell_type": "code",
   "execution_count": 6,
   "metadata": {},
   "outputs": [],
   "source": [
    "def prep_data_column(column):\n",
    "    '''\n",
    "        Pre-process text for an entire column\n",
    "        Input: List (dataframe column) with text\n",
    "        Output: Pre-processed text\n",
    "    '''\n",
    "    prepped_col = []\n",
    "    for text in column:\n",
    "        # Check if there is actually text\n",
    "        if (len(text) > 0):\n",
    "            prepped_text = prep_text(text)\n",
    "        else:\n",
    "            prepped_text = ''\n",
    "        prepped_col.append(prepped_text)\n",
    "    return(prepped_col)"
   ]
  },
  {
   "cell_type": "code",
   "execution_count": 7,
   "metadata": {
    "tags": []
   },
   "outputs": [],
   "source": [
    "def prep_text(text):\n",
    "    '''\n",
    "        Pre-process text pipeline\n",
    "        Input: A text (string)\n",
    "        Output: Pre-processed text\n",
    "    '''\n",
    "    # Initialise lemmatizer for later use\n",
    "    lemmatizer = WordNetLemmatizer()\n",
    "    \n",
    "    out_text = text.lower()\n",
    "\n",
    "    # Remove numbers\n",
    "    remove_digits = str.maketrans('', '', digits)\n",
    "    out_text = out_text.translate(remove_digits)\n",
    "    \n",
    "    # Erase symbols, vary for the case sentence stop \n",
    "    # characters needed (e.g. for BERT)\n",
    "    symbols = \"!\\\"#$%&()*+-.—,/:;<=>?@[\\]^‘’_`{|}~[],''\\n\"\n",
    "    for i in symbols:\n",
    "        out_text = out_text.replace(i, ' ')\n",
    "    # Exclude stop words. Exclude single character words\n",
    "    splitted_text = out_text.split()\n",
    "    stopped_text = \"\"\n",
    "\n",
    "    for word in splitted_text:\n",
    "        if word not in stop_words and len(word) > 1:\n",
    "            # Exclude apostrophe\n",
    "            word = word.replace('”', '')\n",
    "            word = word.replace('“', '')\n",
    "            word = word.replace(\"'\", \"\")\n",
    "            # Lemmatize\n",
    "            word = lemmatizer.lemmatize(word)\n",
    "            # Compose text. Some words may have 'shrunken' to \n",
    "            # one character. Eliminate these.\n",
    "            if len(word) > 1:\n",
    "                stopped_text = stopped_text + ' ' + word\n",
    "\n",
    "    out_text = stopped_text\n",
    "\n",
    "    return(out_text.strip())"
   ]
  },
  {
   "cell_type": "code",
   "execution_count": 8,
   "metadata": {},
   "outputs": [],
   "source": [
    "### Test function above ####\n",
    "# text = \"hoi du wie gahts? s,cho 87lang 99nüm gsee!!!\"\n",
    "# prep_text(text)\n"
   ]
  },
  {
   "cell_type": "code",
   "execution_count": 9,
   "metadata": {},
   "outputs": [],
   "source": [
    "def preprocess_data(file_path):\n",
    "    ''' \n",
    "        Takes a title + text dataframe and preprocesses the text data\n",
    "        Input: Path to the file that should be preprocessed\n",
    "        Output: Dataframe with original columns and columns with preprocessed data\n",
    "        Uses custom Defs: def prep_data_column which usues\n",
    "                            def prep_text\n",
    "    '''\n",
    "    \n",
    "    df_raw = pd.read_csv(file_path)\n",
    "    \n",
    "    # Prepare df to hold the preprocessed data\n",
    "    columns = ['title', 'text', 'date_time']\n",
    "    text_cols = ['title', 'text']\n",
    "    df_prep = pd.DataFrame(columns=columns)\n",
    "\n",
    "    for col in columns:\n",
    "        df_prep[col] = df_raw[col]\n",
    "        \n",
    "    for col in text_cols:\n",
    "        prep_col = prep_data_column(df_raw[col])\n",
    "        # Add preprocessed data \n",
    "        df_prep[col + '_prepped'] = prep_col\n",
    "    # Convert date-time\n",
    "    df_prep['date'] = df_prep['date_time'].apply(lambda x: datetime.strptime(x, '%B %d, %Y, %I:%M %p').strftime('%Y-%m-%d'))\n",
    "    return df_prep"
   ]
  },
  {
   "cell_type": "code",
   "execution_count": 10,
   "metadata": {},
   "outputs": [],
   "source": [
    "### TEST cell above ###\n",
    "# df = preprocess_data(dir_path + file_name)\n",
    "# df.head()"
   ]
  },
  {
   "cell_type": "code",
   "execution_count": 11,
   "metadata": {},
   "outputs": [],
   "source": [
    "def build_corpus(df):\n",
    "    ''' \n",
    "        Build corpus of titles and articles body (text)\n",
    "        Input: Dataframe with title and text (body) rows\n",
    "        Output: Columns having corpus and merged text\n",
    "    '''\n",
    "    \n",
    "    title_corpus = []\n",
    "    titles_merged = []\n",
    "    for title in df['title_prepped']:\n",
    "        spl = title.split()\n",
    "        title_corpus.append(spl)\n",
    "        for word in spl:\n",
    "            titles_merged.append(word)\n",
    "    fdist_filtered_titles = FreqDist(titles_merged)\n",
    "    \n",
    "    text_corpus = []\n",
    "    text_merged = []\n",
    "    for text in df['text_prepped']:\n",
    "        spl = text.split()\n",
    "        text_corpus.append(spl)\n",
    "        for word in spl:\n",
    "            text_merged.append(word)\n",
    "    \n",
    "    df['title_corpus'] = title_corpus\n",
    "    df['text_corpus'] = text_corpus\n",
    "    df['merged_corpus'] = df['title_prepped'] + df['text_prepped']\n",
    "    \n",
    "    return(df)"
   ]
  },
  {
   "cell_type": "code",
   "execution_count": 12,
   "metadata": {},
   "outputs": [],
   "source": [
    "def visualise_corpus(df):\n",
    "    ''' \n",
    "        Basic visualisation of corpus\n",
    "        Input: Corpus parts\n",
    "        Output: Visuals\n",
    "    '''\n",
    "    \n",
    "    df['corpus_merged'] = df['title_prepped'] + ' ' + df['text_prepped']\n",
    "    \n",
    "    # Most frequent words plots\n",
    "    fdist_text = FreqDist(sum(df['text_prepped'].map(word_tokenize), []))\n",
    "    fdist_titles = FreqDist(sum(df['title_prepped'].map(word_tokenize), []))\n",
    "    plt.rcParams[\"figure.figsize\"] = (20,5)\n",
    "    fdist_titles.plot(80,title='Frequency distribution of 80 most common tokens in title corpus')\n",
    "    \n",
    "    \n",
    "    plt.rcParams[\"figure.figsize\"] = (20,5)\n",
    "    fdist_text.plot(80,title='Frequency distribution of 80 most common tokens in text corpus')\n",
    "    \n",
    "    # Frequency distribution plots\n",
    "    fig, axs = plt.subplots(2, figsize=(15,10))\n",
    "    fig.suptitle('Frequency distribution of words in corpus')\n",
    "    \n",
    "    bcounts_titles = [i for i in fdist_titles.values() if i >= 10]\n",
    "    bins_titles = range(10, 150, 1)\n",
    "    axs[0].hist(bcounts_titles, bins = bins_titles)\n",
    "    \n",
    "    bcounts_text = [i for i in fdist_titles.values() if i >= 20]\n",
    "    bins_text = range(20, 1400, 10)\n",
    "    axs[1].hist(bcounts_text, bins = bins_text)\n",
    "\n",
    "    axs[0].title.set_text('Distribution of word count in titles for counts >= 10')\n",
    "    axs[1].title.set_text('Distribution of word count in text for counts >= 20')\n",
    "    axs[1].set_xlabel('Counts')\n",
    "    axs[0].set_ylabel('Number of words')\n",
    "    axs[1].set_ylabel('Number of words')\n",
    "\n",
    "    return(df)"
   ]
  },
  {
   "cell_type": "code",
   "execution_count": 13,
   "metadata": {},
   "outputs": [],
   "source": [
    "def descriptive_statistics(df):\n",
    "    ''' \n",
    "        Print some descriptive statistics of article title and body (text) columns\n",
    "        Input: Corpus parts\n",
    "        Output: Prints of mean lengths, total corpus size\n",
    "    '''\n",
    "    titles_merged = ' '.join(df['title_prepped'].tolist())\n",
    "    text_merged = ' '.join(df['text_prepped'].tolist())\n",
    "    title_corpus = df['title_corpus']\n",
    "    text_corpus = df['text_corpus']\n",
    "    print('------ Descriptive statistics of preprocessed dataset -------')\n",
    "    print('Number of documents: ' + str(len(title_corpus)))\n",
    "    print('Date range: From ' + min(df['date']) + ' to: ' + max(df['date']))\n",
    "    title_lengths = [len(i) for i in title_corpus]\n",
    "    mean_title_length = sum(title_lengths) / len(title_lengths)\n",
    "    text_lengths = [len(i) for i in text_corpus]\n",
    "    mean_text_length = sum(text_lengths) / len(text_lengths)\n",
    "    \n",
    "    print('Mean length of titles: ' + str(mean_title_length))\n",
    "    print('Mean length of article body texts: ' + str(mean_text_length))\n",
    "    print('Total corpus size: ' + str(len(titles_merged) + len(text_merged)))"
   ]
  },
  {
   "cell_type": "markdown",
   "metadata": {},
   "source": [
    "## Embedding - TF-IDF"
   ]
  },
  {
   "cell_type": "code",
   "execution_count": 15,
   "metadata": {},
   "outputs": [],
   "source": [
    "def get_tfidf(corpus):\n",
    "    ''' \n",
    "        Build TF-IDF matrix for a given corpus\n",
    "        Input: Corpus (Preprocessed text strings)\n",
    "        Output: TF-IDF matrix, the vectorizer object\n",
    "            (having the labels)\n",
    "        TODO next version: Limit to TfidfTransformer\n",
    "    '''\n",
    "    # Initiate vectorizer\n",
    "    vectorizer = TfidfVectorizer(analyzer='word')\n",
    "    # Form the matrix\n",
    "    tfidf_matrix = vectorizer.fit_transform(corpus)\n",
    "    # Investigate the shape of the matrix\n",
    "    print('TF-IDF matrix shape: ' + (str(tfidf_matrix.shape)))\n",
    "    \n",
    "    return(tfidf_matrix, vectorizer)"
   ]
  },
  {
   "cell_type": "code",
   "execution_count": 16,
   "metadata": {},
   "outputs": [],
   "source": [
    "### TEST cell above ###\n",
    "# get_tfidf(df['merged_corpus'])"
   ]
  },
  {
   "cell_type": "markdown",
   "metadata": {},
   "source": [
    "## Keywords"
   ]
  },
  {
   "cell_type": "code",
   "execution_count": 55,
   "metadata": {},
   "outputs": [],
   "source": [
    "def add_keywords(df, x_keywords, tfidf_matrix, vectorizer):\n",
    "    ''' \n",
    "        Based on TF-IDF, extract x keywords i.e.\n",
    "            words with highest weights in the order of \n",
    "            their appearance in the corpus\n",
    "        Input: Dataframe of articles, preprocessed text + corpus\n",
    "        Output: Dataframe with keyword columns\n",
    "    '''\n",
    "\n",
    "    # Get TF-IDF matrix (holding the weights) and vectorizer \n",
    "    # object (holding the labels)\n",
    "    names = vectorizer.get_feature_names_out()\n",
    "    # Convert to operable format\n",
    "    weights = tfidf_matrix.todense().tolist()\n",
    "    # Create a dataframe with the results\n",
    "    weights_df = pd.DataFrame(weights, columns=names)\n",
    "\n",
    "    # Add empty columns to hold the x keywords and their weights\n",
    "    df['keywords'] = ''\n",
    "    df['keyword_weights'] = ''\n",
    "\n",
    "    # Loop through merged corpus text\n",
    "    for i in range(0, len(df)):\n",
    "        text = df['text_corpus'][i]\n",
    "        vector = []\n",
    "        # Look up the weight of each word in the TF-IDF \n",
    "        # document-weights-per token matrix\n",
    "        for word in text:\n",
    "            if word in weights_df:\n",
    "                weight = weights_df[word][i]\n",
    "                vector.append(weight)\n",
    "            else:\n",
    "                vector.append(0.000)\n",
    "\n",
    "        # Temporary dataframe to hold weights\n",
    "        data = {'text':text,'weights':vector}\n",
    "        df_text = pd.DataFrame(data)\n",
    "        # Find the top x'st weight and remove all \n",
    "        # words with a weight below it\n",
    "        if (len(df_text) >= x_keywords):\n",
    "            max_x = sorted(vector, reverse=True)[:x_keywords]\n",
    "            ind_to_drop = []\n",
    "            for index, item in df_text.iterrows():\n",
    "                # Vector for indices where value\n",
    "                # is below the top 50 i.e. to drop from temp. df\n",
    "                if item['weights'] < max_x[x_keywords-1]:\n",
    "                    ind_to_drop.append(index)\n",
    "\n",
    "            df_text = df_text.drop(df_text.index[ind_to_drop])\n",
    "            df_text = df_text[:x_keywords]\n",
    "\n",
    "        df['keywords'][i] = df_text['text'].values\n",
    "        ws = []\n",
    "        for w in df_text['weights'].values:\n",
    "            ws.append(w)\n",
    "        df['keyword_weights'][i] = ws\n",
    "\n",
    "    return(df, weights_df)"
   ]
  },
  {
   "cell_type": "code",
   "execution_count": 61,
   "metadata": {},
   "outputs": [
    {
     "data": {
      "image/png": "[encoded data removed]",
      "text/plain": [
       "<Figure size 432x288 with 1 Axes>"
      ]
     },
     "metadata": {
      "needs_background": "light"
     },
     "output_type": "display_data"
    }
   ],
   "source": [
    "### Visualise ###\n",
    "ent_w = []\n",
    "ent_weights = df['keyword_weights']\n",
    "for ent_weight in ent_weights:\n",
    "    ent_w = ent_w + ent_weight\n",
    "hist1 = plt.hist(ent_w, bins=100);\n",
    "plt.legend(['Weights of keywords'])\n",
    "plt.title('Figure: Frequency distribution of weights of keywords', y=-0.2);\n"
   ]
  },
  {
   "cell_type": "code",
   "execution_count": 75,
   "metadata": {},
   "outputs": [
    {
     "data": {
      "image/png": "[encoded data removed]",
      "text/plain": [
       "<Figure size 1440x216 with 1 Axes>"
      ]
     },
     "metadata": {
      "needs_background": "light"
     },
     "output_type": "display_data"
    },
    {
     "data": {
      "text/plain": [
       "<AxesSubplot:title={'center':'Frequency distribution of keywords'}, xlabel='Samples', ylabel='Counts'>"
      ]
     },
     "execution_count": 75,
     "metadata": {},
     "output_type": "execute_result"
    }
   ],
   "source": [
    "fdist = FreqDist()\n",
    "for words in df['keywords'][:]: \n",
    "    for word in words:\n",
    "        fdist[word] += 1\n",
    "rcParams[\"figure.figsize\"] = (20,3)\n",
    "fdist.plot(80,title='Frequency distribution of keywords')"
   ]
  },
  {
   "cell_type": "markdown",
   "metadata": {},
   "source": [
    "## Named Entities"
   ]
  },
  {
   "cell_type": "code",
   "execution_count": 43,
   "metadata": {},
   "outputs": [],
   "source": [
    "def get_named_entities(df, weights_df):\n",
    "    ''' \n",
    "        TODO next version: Provide cryptocurrencies\n",
    "        TODO Split function into smaller bits\n",
    "    '''\n",
    "    df['entities'] = ''\n",
    "    df['entities_weight'] = ''\n",
    "    # Load the spacy dictionary\n",
    "    nl = en_core_web_sm.load()\n",
    "\n",
    "    # Provide spacy matches\n",
    "    for index, row in df.iterrows():\n",
    "        title = row['title_prepped'] \n",
    "        text = row['text_prepped'] \n",
    "        full = title + ' ' + text\n",
    "        full = full.replace(\"'\", ' ')\n",
    "        full = full.replace(\",\", ' ')\n",
    "        full = full.replace(\"[\", ' ')\n",
    "        full = full.replace(\"]\", ' ')\n",
    "        doc = nl(full)\n",
    "        ents = [(X.text, X.label_) for X in doc.ents]\n",
    "        temp_df = pd.DataFrame(columns=['name', 'weight'])\n",
    "        # Use this for visualisation of results: displacy.render(doc,style=\"ent\",jupyter=True)\n",
    "        # Filter relevant entities\n",
    "        rel_ents = [x[0] for x in ents if (x[1]=='PERSON') or (x[1]=='ORG') or (x[1]=='GPE')]\n",
    "        # Loop through result and provide weights\n",
    "        # (i.e. highest weight of individual words in e.g. 'Hillary Clinton')\n",
    "        # Then, take only those with the 10 highest weights\n",
    "        f_names = []\n",
    "        f_weights = []\n",
    "        for names in rel_ents:\n",
    "            temp_values = {}\n",
    "            for name in names.split():\n",
    "                name = name.lower()\n",
    "                if name in weights_df.columns:\n",
    "                    temp_values[name] = weights_df[name][index]\n",
    "            # proceed if name recognised, otherwise skip\n",
    "            sorted_temp = sorted(temp_values.items(), key=lambda kv: kv[1], reverse=True)\n",
    "            if len(sorted_temp) > 0:\n",
    "                # Store first name and its weight in temporary vectors\n",
    "                f_names.append(sorted_temp[0][0])\n",
    "                f_weights.append(sorted_temp[0][1])\n",
    "\n",
    "        # When done, sort the temporary df and leave the top 10\n",
    "        # Temporary dataframe to hold weights\n",
    "        data = {'names':f_names,'weights':f_weights}\n",
    "        df_temp = pd.DataFrame.from_dict(data).drop_duplicates()\n",
    "        # Sort and delete all non-top 10\n",
    "        df_temp = df_temp.sort_values(by=['weights'], ascending=False).drop_duplicates()\n",
    "        # If not 10 in list, fill with \"none\" (name) and 0 (weight)\n",
    "        df_null = pd.DataFrame.from_dict({'names':['none'],'weights':[0]})\n",
    "        if len(df_temp) < 10:\n",
    "            x = 10 - len(df_temp)\n",
    "            for i in range(1, x):\n",
    "                df_temp = df_temp.append(df_null)\n",
    "        df_temp = df_temp.head(10)\n",
    "        df['entities'][index] = list(df_temp['names'])\n",
    "        df['entities_weight'][index] = list(df_temp['weights'])\n",
    "    return(df)"
   ]
  },
  {
   "cell_type": "code",
   "execution_count": 154,
   "metadata": {},
   "outputs": [
    {
     "data": {
      "image/png": "[encoded data removed]",
      "text/plain": [
       "<Figure size 1440x360 with 1 Axes>"
      ]
     },
     "metadata": {
      "needs_background": "light"
     },
     "output_type": "display_data"
    },
    {
     "data": {
      "text/plain": [
       "<AxesSubplot:title={'center':'Frequency distribution of named entities'}, xlabel='Samples', ylabel='Counts'>"
      ]
     },
     "execution_count": 154,
     "metadata": {},
     "output_type": "execute_result"
    }
   ],
   "source": [
    "### VISUALISE if necessary \n",
    "# fdist = FreqDist()\n",
    "# fdist.plot(80,title='Frequency distribution of named entities')\n",
    "# ent_w = []\n",
    "# ent_weights = df['entities_weight']\n",
    "# for ent_weight in ent_weights:\n",
    "#     ent_w = ent_w + ent_weight\n",
    "# hist1 = plt.hist(ent_w, bins=60);\n",
    "# plt.legend(['Weights of extracted entities'])\n",
    "# plt.title('Figure: Frequency distribution of weights of extracted entities', y=-0.2);"
   ]
  },
  {
   "cell_type": "code",
   "execution_count": 162,
   "metadata": {},
   "outputs": [
    {
     "data": {
      "image/png": "[encoded data removed]",
      "text/plain": [
       "<Figure size 1440x360 with 1 Axes>"
      ]
     },
     "metadata": {
      "needs_background": "light"
     },
     "output_type": "display_data"
    }
   ],
   "source": []
  },
  {
   "cell_type": "markdown",
   "metadata": {},
   "source": [
    "## Sentiment Analysis"
   ]
  },
  {
   "cell_type": "code",
   "execution_count": 44,
   "metadata": {},
   "outputs": [],
   "source": [
    "def add_sentiments(df):\n",
    "    # Prepare df:\n",
    "    df['sent_title'] = ''\n",
    "    df['sent_text'] = ''\n",
    "    # Initiate VADER\n",
    "    sid = SentimentIntensityAnalyzer()\n",
    "    # Loop through items and get the sentiment scores\n",
    "    # The compound is saved in df as relevant value\n",
    "    for index, item in df.iterrows():\n",
    "        sent_title = sid.polarity_scores(str(item['title']))\n",
    "        sent_text = sid.polarity_scores(str(item['text']))\n",
    "        df.loc[index, 'sent_title'] = sent_title['compound']\n",
    "        df.loc[index, 'sent_text'] = sent_text['compound']\n",
    "    return df"
   ]
  },
  {
   "cell_type": "code",
   "execution_count": 45,
   "metadata": {},
   "outputs": [],
   "source": [
    "### Test cell above ###\n",
    "# df_sents = add_sentiments(df)\n",
    "# df_sents.head(1)"
   ]
  },
  {
   "cell_type": "code",
   "execution_count": 46,
   "metadata": {},
   "outputs": [
    {
     "data": {
      "text/plain": [
       "Text(0.5, -0.2, 'Figure: Distribution of sentiment scores of article titles and body texts')"
      ]
     },
     "execution_count": 46,
     "metadata": {},
     "output_type": "execute_result"
    },
    {
     "data": {
      "image/png": "[encoded data removed]",
      "text/plain": [
       "<Figure size 432x288 with 1 Axes>"
      ]
     },
     "metadata": {
      "needs_background": "light"
     },
     "output_type": "display_data"
    }
   ],
   "source": [
    "### VISUALIZE when necessary ###\n",
    "hist1 = plt.hist(df['sent_text'], bins=60, alpha=0.5, label='Titles');\n",
    "hist2 = plt.hist(df['sent_title'], bins=60, alpha=0.5, label='Body texts');\n",
    "plt.legend(['Titles', 'Article body texts'])\n",
    "plt.title('Figure: Distribution of sentiment scores of article titles and body texts', y=-0.2)"
   ]
  },
  {
   "cell_type": "markdown",
   "metadata": {},
   "source": [
    "## Clustering with DBSCAN"
   ]
  },
  {
   "cell_type": "code",
   "execution_count": 194,
   "metadata": {},
   "outputs": [],
   "source": [
    "def prepare_for_clustering(df):\n",
    "    # Extract the numerical value columns as prepared\n",
    "    exp_df = df[['keyword_weights', 'entities_weight', 'sent_title', 'sent_text']]\n",
    "    # Spread the arrays into columnar form\n",
    "    exp = [pd.DataFrame(exp_df[col].tolist()).add_prefix(col) for col in exp_df.columns]\n",
    "    exp_df = pd.concat([exp[0], exp[1], exp[2], exp[3]], axis= 1)\n",
    "    exp_df = exp_df.fillna(0)\n",
    "    # Normalise for output as features for clustering\n",
    "    features_df = MinMaxScaler().fit_transform(exp_df)\n",
    "\n",
    "    # Also, create the similarity matrix for model variation (hdbscan)\n",
    "    sim_matrix = cosine_sim_train = linear_kernel(features_df, features_df)\n",
    "    return(features_df, sim_matrix)"
   ]
  },
  {
   "cell_type": "code",
   "execution_count": null,
   "metadata": {},
   "outputs": [],
   "source": [
    "### TEST code from cell above ###\n",
    "# features_df, sim_matrix = prepare_for_clustering(df)\n",
    "# db = DBSCAN(eps=0.8, min_samples=2).fit(features_df)\n",
    "# silhouette_score(features_df, labels)"
   ]
  },
  {
   "cell_type": "code",
   "execution_count": null,
   "metadata": {},
   "outputs": [],
   "source": [
    "''' \n",
    "Run DBSCAN with parameter spread (eps and min_samples)\n",
    "This produces errors since, from manual investigation, \n",
    "the algorithm would recognise either a label for every\n",
    "label, or find only noise and one label (0). \n",
    "Conclusion: DBSCAN cannot be employed for the task at hand. \n",
    "Let's try HDBSCAN thereafter.\n",
    "'''\n",
    "maxs = {}\n",
    "sils = {}\n",
    "labels = []\n",
    "fig, axs = plt.subplots(4, 1, figsize=(18, 12))\n",
    "fig, axs_s = plt.subplots(4, 1, figsize=(18, 12))\n",
    "# Varying min_samples\n",
    "for s in range (1,5):\n",
    "    # Varying eps\n",
    "    for i in range(1, 50):\n",
    "        db = DBSCAN(eps=i/10, min_samples=s).fit(features_df)\n",
    "        labels = db.labels_\n",
    "        maxs[i/10] = max(labels)\n",
    "        if max(labels) > 1:\n",
    "            sils = silhouette_score(features_df, labels)\n",
    "            sils[i/10] = silh\n",
    "\n",
    "        if (i > 34) and (i < 40):\n",
    "            print('min_samples = ' + str(s) +  ' - Eps = ' + str(i/10) + ' - Labels: ' + str(max(db.labels_)) + ' - Silhouett: ' + str(silh))\n",
    "\n",
    "    names = list(maxs.keys())\n",
    "    values = list(maxs.values())\n",
    "    axs[s-1].plot(maxs.keys(), maxs.values())\n",
    "    axs_s[s-1].plot(sils.keys(), sils.values())\n",
    "    \n",
    "fig, axs_f = plt.subplots(4, 1, figsize=(18, 12))\n",
    "\n",
    "labels_1 = DBSCAN(eps=0.2, min_samples=1).fit(features_df).labels_\n",
    "labels_2 = DBSCAN(eps=0.6, min_samples=2).fit(features_df).labels_\n",
    "labels_3 = DBSCAN(eps=0.7, min_samples=3).fit(features_df).labels_\n",
    "labels_4 = DBSCAN(eps=0.7, min_samples=4).fit(features_df).labels_\n",
    "\n",
    "axs_f[0].hist(labels_1, bins=50)\n",
    "axs_f[1].hist(labels_2, bins=50)\n",
    "axs_f[2].hist(labels_3, bins=50)\n",
    "axs_f[3].hist(labels_4, bins=50)"
   ]
  },
  {
   "cell_type": "code",
   "execution_count": null,
   "metadata": {},
   "outputs": [],
   "source": [
    "'''\n",
    "HDBSCAN: Parameter variations rovide results that are more in the space of expectations, i.e. a rather high number of noise (due to many events being presented in news articles over the short time period under investigation) and a rather small number of actual clusters.\n",
    "'''\n",
    "hdbs1 = hdbscan.HDBSCAN(min_cluster_size=2, min_samples=None, metric='euclidean', \\\n",
    "                       algorithm='generic', leaf_size=20, prediction_data=True).fit(features_df)\n",
    "hdbs2 = hdbscan.HDBSCAN(min_cluster_size=2, min_samples=1, metric='euclidean', \\\n",
    "                       algorithm='generic', leaf_size=20, prediction_data=True).fit(features_df)\n",
    "hdbs3 = hdbscan.HDBSCAN(min_cluster_size=2, min_samples=1, metric='manhattan', \\\n",
    "                       algorithm='generic', leaf_size=80, prediction_data=True).fit(features_df)"
   ]
  },
  {
   "cell_type": "code",
   "execution_count": 224,
   "metadata": {},
   "outputs": [
    {
     "data": {
      "text/plain": [
       "Text(0.04, 0.5, 'Cluster (-1 = noise)')"
      ]
     },
     "execution_count": 224,
     "metadata": {},
     "output_type": "execute_result"
    },
    {
     "data": {
      "image/png": "[encoded data removed]",
      "text/plain": [
       "<Figure size 1296x1008 with 3 Axes>"
      ]
     },
     "metadata": {
      "needs_background": "light"
     },
     "output_type": "display_data"
    }
   ],
   "source": [
    "\n",
    "fig, axs = plt.subplots(3, 1, figsize=(18, 14))\n",
    "plt.suptitle('HDBSCAN resulting cluster distribution')\n",
    "fig1 = axs[0].hist(hdbs1.labels_, bins=100)\n",
    "fig2 = axs[1].hist(hdbs2.labels_, bins=100)\n",
    "fig3 = axs[2].hist(hdbs3.labels_, bins=100)\n",
    "axs[0].title.set_text('for min_sample=None, min_cluster_size=2, leaf_size=20')\n",
    "axs[1].title.set_text('for min_samples=1, min_cluster_size=2, leaf_size=20')\n",
    "axs[2].title.set_text('for min_samples=1, min_cluster_size=2, leaf_size=80')\n",
    "fig.text(0.5, 0.04, 'Count of documents per cluster', ha='center')\n",
    "fig.text(0.04, 0.5, 'Cluster (-1 = noise)', va='center', rotation='vertical')"
   ]
  },
  {
   "cell_type": "code",
   "execution_count": 818,
   "metadata": {},
   "outputs": [
    {
     "name": "stdout",
     "output_type": "stream",
     "text": [
      "Silhouette score for HDBS 1: 0.182999050414713\n",
      "Silhouette score for HDBS 2: 0.32098072918032183\n",
      "Silhouette score for HDBS 3: 0.32098072918032183\n"
     ]
    }
   ],
   "source": [
    "silh1 = silhouette_score(sim_matrix, hdbs1.labels_)\n",
    "silh2 = silhouette_score(sim_matrix, hdbs2.labels_)\n",
    "silh3 = silhouette_score(sim_matrix, hdbs3.labels_)\n",
    "print('Silhouette score for HDBS 1: ' + str(silh1))\n",
    "print('Silhouette score for HDBS 2: ' + str(silh2))\n",
    "print('Silhouette score for HDBS 3: ' + str(silh3))"
   ]
  },
  {
   "cell_type": "code",
   "execution_count": 42,
   "metadata": {},
   "outputs": [],
   "source": [
    "def build_model(df, eps, min_samples):\n",
    "    # Extract the numerical value columns as prepared\n",
    "    exp_df = df[['keyword_weights', 'entities_weight', 'sent_title', 'sent_text']]\n",
    "    # Spread the arrays into columnar form\n",
    "    exp = [pd.DataFrame(exp_df[col].tolist()).add_prefix(col) for col in exp_df.columns]\n",
    "    exp_df = pd.concat([exp[0], exp[1], exp[2], exp[3]], axis= 1)\n",
    "    exp_df = exp_df.fillna(0)\n",
    "    # Normalise\n",
    "    features_df = MinMaxScaler().fit_transform(exp_df)\n",
    "    db = DBSCAN(eps=eps, min_samples=min_samples).fit(features_df)\n",
    "    \n",
    "    return(features_df, db)"
   ]
  },
  {
   "cell_type": "code",
   "execution_count": 43,
   "metadata": {},
   "outputs": [],
   "source": [
    "def save_hdbscan_model(model):\n",
    "    # Serialize hdbscan model\n",
    "    with open('hdbscan_model_r1_1.pickle', 'wb') as handle:\n",
    "        pickle.dump(your_data, handle, protocol=pickle.HIGHEST_PROTOCOL)\n",
    "    return model"
   ]
  },
  {
   "cell_type": "code",
   "execution_count": 44,
   "metadata": {},
   "outputs": [],
   "source": [
    "def get_hdbscan_model(file_path):\n",
    "    # Deserialize hdbscan model\n",
    "    with open('hdbscan_model_r1_1.pickle', 'rb') as handle:\n",
    "        hdbscan_model = pickle.load(handle)\n",
    "    return hdbscan_model"
   ]
  },
  {
   "cell_type": "code",
   "execution_count": 45,
   "metadata": {},
   "outputs": [],
   "source": [
    "def predict(hdbs, new_data):\n",
    "    labels, membership_strengths = hdbscan.approximate_predict(hdbs, new_data)\n",
    "    return(labels, membership_strengths)"
   ]
  },
  {
   "cell_type": "markdown",
   "metadata": {},
   "source": [
    "## Pipeline"
   ]
  },
  {
   "cell_type": "code",
   "execution_count": 56,
   "metadata": {},
   "outputs": [
    {
     "name": "stdout",
     "output_type": "stream",
     "text": [
      "TF-IDF matrix shape: (385, 12003)\n"
     ]
    },
    {
     "data": {
      "text/html": [
       "<div>\n",
       "<style scoped>\n",
       "    .dataframe tbody tr th:only-of-type {\n",
       "        vertical-align: middle;\n",
       "    }\n",
       "\n",
       "    .dataframe tbody tr th {\n",
       "        vertical-align: top;\n",
       "    }\n",
       "\n",
       "    .dataframe thead th {\n",
       "        text-align: right;\n",
       "    }\n",
       "</style>\n",
       "<table border=\"1\" class=\"dataframe\">\n",
       "  <thead>\n",
       "    <tr style=\"text-align: right;\">\n",
       "      <th></th>\n",
       "      <th>title</th>\n",
       "      <th>text</th>\n",
       "      <th>date_time</th>\n",
       "      <th>title_prepped</th>\n",
       "      <th>text_prepped</th>\n",
       "      <th>date</th>\n",
       "      <th>title_corpus</th>\n",
       "      <th>text_corpus</th>\n",
       "      <th>merged_corpus</th>\n",
       "      <th>keywords</th>\n",
       "      <th>keyword_weights</th>\n",
       "      <th>entities</th>\n",
       "      <th>entities_weight</th>\n",
       "      <th>sent_title</th>\n",
       "      <th>sent_text</th>\n",
       "    </tr>\n",
       "  </thead>\n",
       "  <tbody>\n",
       "    <tr>\n",
       "      <th>0</th>\n",
       "      <td>‘Taking no chances:’ Investors abandon travel ...</td>\n",
       "      <td>Stocks tumbled and investors flocked to safe h...</td>\n",
       "      <td>November 26, 2021, 12:42 AM</td>\n",
       "      <td>taking chance investor abandon travel stock se...</td>\n",
       "      <td>stock tumbled investor flocked safe haven frid...</td>\n",
       "      <td>2021-11-26</td>\n",
       "      <td>[taking, chance, investor, abandon, travel, st...</td>\n",
       "      <td>[stock, tumbled, investor, flocked, safe, have...</td>\n",
       "      <td>taking chance investor abandon travel stock se...</td>\n",
       "      <td>[variant, south, south, variant, variant, vari...</td>\n",
       "      <td>[0.26089043502180415, 0.2372423754451628, 0.23...</td>\n",
       "      <td>[south, new, halley, travel, japan, hong, asia...</td>\n",
       "      <td>[0.2372423754451628, 0.16203434176460832, 0.13...</td>\n",
       "      <td>-0.296</td>\n",
       "      <td>-0.97</td>\n",
       "    </tr>\n",
       "    <tr>\n",
       "      <th>1</th>\n",
       "      <td>Bitcoin Drops $9K in an Hour on Spot Market Se...</td>\n",
       "      <td>The price of bitcoin plummeted early Saturday,...</td>\n",
       "      <td>December 4, 2021, 7:41 AM</td>\n",
       "      <td>bitcoin drop hour spot market selling el salva...</td>\n",
       "      <td>price bitcoin plummeted early saturday falling...</td>\n",
       "      <td>2021-12-04</td>\n",
       "      <td>[bitcoin, drop, hour, spot, market, selling, e...</td>\n",
       "      <td>[price, bitcoin, plummeted, early, saturday, f...</td>\n",
       "      <td>bitcoin drop hour spot market selling el salva...</td>\n",
       "      <td>[market, market, market, market, market, marke...</td>\n",
       "      <td>[0.25979983108812776, 0.25979983108812776, 0.2...</td>\n",
       "      <td>[el, nayib, fed, none, none, none, none, none,...</td>\n",
       "      <td>[0.13795859734136992, 0.1126830365074132, 0.08...</td>\n",
       "      <td>0.0</td>\n",
       "      <td>-0.8238</td>\n",
       "    </tr>\n",
       "    <tr>\n",
       "      <th>2</th>\n",
       "      <td>Bitcoin falls by a fifth, cryptos see $1 billi...</td>\n",
       "      <td>By Maria Ponnezhath and Vidya Ranganathan(Reut...</td>\n",
       "      <td>December 4, 2021, 6:56 AM</td>\n",
       "      <td>bitcoin fall fifth cryptos see billion worth l...</td>\n",
       "      <td>maria ponnezhath vidya ranganathan reuters bit...</td>\n",
       "      <td>2021-12-04</td>\n",
       "      <td>[bitcoin, fall, fifth, cryptos, see, billion, ...</td>\n",
       "      <td>[maria, ponnezhath, vidya, ranganathan, reuter...</td>\n",
       "      <td>bitcoin fall fifth cryptos see billion worth l...</td>\n",
       "      <td>[vidya, ranganathan, plunge, plunge, anethan, ...</td>\n",
       "      <td>[0.16336089202010992, 0.16336089202010992, 0.1...</td>\n",
       "      <td>[exchange, merriman, justin, bankman, reuters,...</td>\n",
       "      <td>[0.15931459865917627, 0.08168044601005496, 0.0...</td>\n",
       "      <td>0.2263</td>\n",
       "      <td>0.9246</td>\n",
       "    </tr>\n",
       "    <tr>\n",
       "      <th>3</th>\n",
       "      <td>Bitcoin’s Mysterious Origins at Center of ‘Fin...</td>\n",
       "      <td>A new documentary is in the works exploring th...</td>\n",
       "      <td>December 3, 2021, 9:54 AM</td>\n",
       "      <td>bitcoin mysterious origin center finding satos...</td>\n",
       "      <td>new documentary work exploring mysterious foun...</td>\n",
       "      <td>2021-12-03</td>\n",
       "      <td>[bitcoin, mysterious, origin, center, finding,...</td>\n",
       "      <td>[new, documentary, work, exploring, mysterious...</td>\n",
       "      <td>bitcoin mysterious origin center finding satos...</td>\n",
       "      <td>[satoshi, film, satoshi, tooley, tooley, cohan...</td>\n",
       "      <td>[0.2287738671587111, 0.2287738671587111, 0.228...</td>\n",
       "      <td>[satoshi, cohan, matthew, tucker, the, ehrsam,...</td>\n",
       "      <td>[0.2287738671587111, 0.20808262593216273, 0.15...</td>\n",
       "      <td>0.0</td>\n",
       "      <td>0.988</td>\n",
       "    </tr>\n",
       "    <tr>\n",
       "      <th>4</th>\n",
       "      <td>Expect Bitcoin at $10k if This Happens</td>\n",
       "      <td>The last time we saw Bitcoin’s value at less t...</td>\n",
       "      <td>December 3, 2021, 9:04 PM</td>\n",
       "      <td>expect bitcoin happens</td>\n",
       "      <td>last time saw bitcoin value le around july las...</td>\n",
       "      <td>2021-12-03</td>\n",
       "      <td>[expect, bitcoin, happens]</td>\n",
       "      <td>[last, time, saw, bitcoin, value, le, around, ...</td>\n",
       "      <td>expect bitcoin happenslast time saw bitcoin va...</td>\n",
       "      <td>[asset, asset, navellier, asset, navellier, as...</td>\n",
       "      <td>[0.19556755005817458, 0.19556755005817458, 0.3...</td>\n",
       "      <td>[navellier, fed, cnbc, none, none, none, none,...</td>\n",
       "      <td>[0.3299563989764896, 0.08237979933646407, 0.07...</td>\n",
       "      <td>0.0</td>\n",
       "      <td>0.9787</td>\n",
       "    </tr>\n",
       "  </tbody>\n",
       "</table>\n",
       "</div>"
      ],
      "text/plain": [
       "                                               title  \\\n",
       "0  ‘Taking no chances:’ Investors abandon travel ...   \n",
       "1  Bitcoin Drops $9K in an Hour on Spot Market Se...   \n",
       "2  Bitcoin falls by a fifth, cryptos see $1 billi...   \n",
       "3  Bitcoin’s Mysterious Origins at Center of ‘Fin...   \n",
       "4             Expect Bitcoin at $10k if This Happens   \n",
       "\n",
       "                                                text  \\\n",
       "0  Stocks tumbled and investors flocked to safe h...   \n",
       "1  The price of bitcoin plummeted early Saturday,...   \n",
       "2  By Maria Ponnezhath and Vidya Ranganathan(Reut...   \n",
       "3  A new documentary is in the works exploring th...   \n",
       "4  The last time we saw Bitcoin’s value at less t...   \n",
       "\n",
       "                     date_time  \\\n",
       "0  November 26, 2021, 12:42 AM   \n",
       "1    December 4, 2021, 7:41 AM   \n",
       "2    December 4, 2021, 6:56 AM   \n",
       "3    December 3, 2021, 9:54 AM   \n",
       "4    December 3, 2021, 9:04 PM   \n",
       "\n",
       "                                       title_prepped  \\\n",
       "0  taking chance investor abandon travel stock se...   \n",
       "1  bitcoin drop hour spot market selling el salva...   \n",
       "2  bitcoin fall fifth cryptos see billion worth l...   \n",
       "3  bitcoin mysterious origin center finding satos...   \n",
       "4                             expect bitcoin happens   \n",
       "\n",
       "                                        text_prepped        date  \\\n",
       "0  stock tumbled investor flocked safe haven frid...  2021-11-26   \n",
       "1  price bitcoin plummeted early saturday falling...  2021-12-04   \n",
       "2  maria ponnezhath vidya ranganathan reuters bit...  2021-12-04   \n",
       "3  new documentary work exploring mysterious foun...  2021-12-03   \n",
       "4  last time saw bitcoin value le around july las...  2021-12-03   \n",
       "\n",
       "                                        title_corpus  \\\n",
       "0  [taking, chance, investor, abandon, travel, st...   \n",
       "1  [bitcoin, drop, hour, spot, market, selling, e...   \n",
       "2  [bitcoin, fall, fifth, cryptos, see, billion, ...   \n",
       "3  [bitcoin, mysterious, origin, center, finding,...   \n",
       "4                         [expect, bitcoin, happens]   \n",
       "\n",
       "                                         text_corpus  \\\n",
       "0  [stock, tumbled, investor, flocked, safe, have...   \n",
       "1  [price, bitcoin, plummeted, early, saturday, f...   \n",
       "2  [maria, ponnezhath, vidya, ranganathan, reuter...   \n",
       "3  [new, documentary, work, exploring, mysterious...   \n",
       "4  [last, time, saw, bitcoin, value, le, around, ...   \n",
       "\n",
       "                                       merged_corpus  \\\n",
       "0  taking chance investor abandon travel stock se...   \n",
       "1  bitcoin drop hour spot market selling el salva...   \n",
       "2  bitcoin fall fifth cryptos see billion worth l...   \n",
       "3  bitcoin mysterious origin center finding satos...   \n",
       "4  expect bitcoin happenslast time saw bitcoin va...   \n",
       "\n",
       "                                            keywords  \\\n",
       "0  [variant, south, south, variant, variant, vari...   \n",
       "1  [market, market, market, market, market, marke...   \n",
       "2  [vidya, ranganathan, plunge, plunge, anethan, ...   \n",
       "3  [satoshi, film, satoshi, tooley, tooley, cohan...   \n",
       "4  [asset, asset, navellier, asset, navellier, as...   \n",
       "\n",
       "                                     keyword_weights  \\\n",
       "0  [0.26089043502180415, 0.2372423754451628, 0.23...   \n",
       "1  [0.25979983108812776, 0.25979983108812776, 0.2...   \n",
       "2  [0.16336089202010992, 0.16336089202010992, 0.1...   \n",
       "3  [0.2287738671587111, 0.2287738671587111, 0.228...   \n",
       "4  [0.19556755005817458, 0.19556755005817458, 0.3...   \n",
       "\n",
       "                                            entities  \\\n",
       "0  [south, new, halley, travel, japan, hong, asia...   \n",
       "1  [el, nayib, fed, none, none, none, none, none,...   \n",
       "2  [exchange, merriman, justin, bankman, reuters,...   \n",
       "3  [satoshi, cohan, matthew, tucker, the, ehrsam,...   \n",
       "4  [navellier, fed, cnbc, none, none, none, none,...   \n",
       "\n",
       "                                     entities_weight sent_title sent_text  \n",
       "0  [0.2372423754451628, 0.16203434176460832, 0.13...     -0.296     -0.97  \n",
       "1  [0.13795859734136992, 0.1126830365074132, 0.08...        0.0   -0.8238  \n",
       "2  [0.15931459865917627, 0.08168044601005496, 0.0...     0.2263    0.9246  \n",
       "3  [0.2287738671587111, 0.20808262593216273, 0.15...        0.0     0.988  \n",
       "4  [0.3299563989764896, 0.08237979933646407, 0.07...        0.0    0.9787  "
      ]
     },
     "execution_count": 56,
     "metadata": {},
     "output_type": "execute_result"
    }
   ],
   "source": [
    "def nlp_pipeline(dataset_path):\n",
    "    ''' All in one go: Preprocess raw articles texts, \n",
    "            visualise + describe corpus, vectorise, add \n",
    "            entities + sentiments, build hdbscan model\n",
    "    '''\n",
    "    df = preprocess_data(dataset_path)\n",
    "    df = build_corpus(df)\n",
    "    #visualise_corpus(df)\n",
    "    #descriptive_statistics(df)\n",
    "    tfidf_matrix, vectorizer = get_tfidf(df['merged_corpus'] )\n",
    "    df, weights_df = add_keywords(df, 10, tfidf_matrix, vectorizer)\n",
    "\n",
    "    df = get_named_entities(df, weights_df)\n",
    "    df = add_sentiments(df)\n",
    "    return(df, tfidf_matrix, vectorizer, weights_df)\n",
    "# TEST\n",
    "df, tfidf_matrix, vectorizer, weights_df = nlp_pipeline(dir_path + raw_file_name)\n",
    "df.head()"
   ]
  }
 ],
 "metadata": {
  "kernelspec": {
   "display_name": "Python 3",
   "language": "python",
   "name": "python3"
  },
  "language_info": {
   "codemirror_mode": {
    "name": "ipython",
    "version": 3
   },
   "file_extension": ".py",
   "mimetype": "text/x-python",
   "name": "python",
   "nbconvert_exporter": "python",
   "pygments_lexer": "ipython3",
   "version": "3.7.7"
  },
  "toc-autonumbering": false,
  "toc-showcode": true,
  "toc-showmarkdowntxt": false,
  "toc-showtags": false
 },
 "nbformat": 4,
 "nbformat_minor": 4
}
