{
 "cells": [
  {
   "cell_type": "code",
   "execution_count": 6,
   "metadata": {},
   "outputs": [
    {
     "data": {
      "text/plain": [
       "'/Users/sachaschwab/Dropbox/JCU/12 Master Class 1/Assessment 3/git_code/NLP-Clustering'"
      ]
     },
     "execution_count": 6,
     "metadata": {},
     "output_type": "execute_result"
    }
   ],
   "source": [
    "import pandas as pd\n",
    "import os\n",
    "os.getcwd()"
   ]
  },
  {
   "cell_type": "code",
   "execution_count": 20,
   "metadata": {},
   "outputs": [],
   "source": [
    "path = '/Users/sachaschwab/Dropbox/JCU/12 Master Class 1/Assessment 3/git_code/NLP-Clustering/data/raw_data.csv'\n",
    "df = pd.read_csv(path)"
   ]
  },
  {
   "cell_type": "code",
   "execution_count": 21,
   "metadata": {},
   "outputs": [
    {
     "data": {
      "text/html": [
       "<div>\n",
       "<style scoped>\n",
       "    .dataframe tbody tr th:only-of-type {\n",
       "        vertical-align: middle;\n",
       "    }\n",
       "\n",
       "    .dataframe tbody tr th {\n",
       "        vertical-align: top;\n",
       "    }\n",
       "\n",
       "    .dataframe thead th {\n",
       "        text-align: right;\n",
       "    }\n",
       "</style>\n",
       "<table border=\"1\" class=\"dataframe\">\n",
       "  <thead>\n",
       "    <tr style=\"text-align: right;\">\n",
       "      <th></th>\n",
       "      <th>url</th>\n",
       "      <th>title</th>\n",
       "      <th>text</th>\n",
       "      <th>date_time</th>\n",
       "    </tr>\n",
       "  </thead>\n",
       "  <tbody>\n",
       "    <tr>\n",
       "      <th>0</th>\n",
       "      <td>https://finance.yahoo.com/news/hillary-clinton...</td>\n",
       "      <td>Hillary Clinton says cryptocurrency has the po...</td>\n",
       "      <td>Hillary Clinton.Melina Mara/The Washington Pos...</td>\n",
       "      <td>November 22, 2021, 1:14 AM</td>\n",
       "    </tr>\n",
       "    <tr>\n",
       "      <th>1</th>\n",
       "      <td>https://finance.yahoo.com/news/crypto-bitcoin-...</td>\n",
       "      <td>Bitcoin falls as El Salvador plans to build 'B...</td>\n",
       "      <td>President of El Salvador, Nayib Bukele, reveal...</td>\n",
       "      <td>November 22, 2021, 1:57 AM</td>\n",
       "    </tr>\n",
       "    <tr>\n",
       "      <th>2</th>\n",
       "      <td>https://finance.yahoo.com/news/us-stock-future...</td>\n",
       "      <td>US stock futures edge higher on economic optim...</td>\n",
       "      <td>Stocks are close to record highs on Wall Stree...</td>\n",
       "      <td>November 22, 2021, 2:41 AM</td>\n",
       "    </tr>\n",
       "    <tr>\n",
       "      <th>3</th>\n",
       "      <td>https://finance.yahoo.com/m/0434c74a-8231-3cdf...</td>\n",
       "      <td>Gold surges, climbing back above $1,800 amid i...</td>\n",
       "      <td>Gold was benefiting from an exit from perceive...</td>\n",
       "      <td>November 26, 2021, 2:22 AM</td>\n",
       "    </tr>\n",
       "    <tr>\n",
       "      <th>4</th>\n",
       "      <td>https://finance.yahoo.com/news/taking-no-chanc...</td>\n",
       "      <td>‘Taking no chances:’ Investors abandon travel ...</td>\n",
       "      <td>Stocks tumbled and investors flocked to safe h...</td>\n",
       "      <td>November 26, 2021, 12:42 AM</td>\n",
       "    </tr>\n",
       "  </tbody>\n",
       "</table>\n",
       "</div>"
      ],
      "text/plain": [
       "                                                 url  \\\n",
       "0  https://finance.yahoo.com/news/hillary-clinton...   \n",
       "1  https://finance.yahoo.com/news/crypto-bitcoin-...   \n",
       "2  https://finance.yahoo.com/news/us-stock-future...   \n",
       "3  https://finance.yahoo.com/m/0434c74a-8231-3cdf...   \n",
       "4  https://finance.yahoo.com/news/taking-no-chanc...   \n",
       "\n",
       "                                               title  \\\n",
       "0  Hillary Clinton says cryptocurrency has the po...   \n",
       "1  Bitcoin falls as El Salvador plans to build 'B...   \n",
       "2  US stock futures edge higher on economic optim...   \n",
       "3  Gold surges, climbing back above $1,800 amid i...   \n",
       "4  ‘Taking no chances:’ Investors abandon travel ...   \n",
       "\n",
       "                                                text  \\\n",
       "0  Hillary Clinton.Melina Mara/The Washington Pos...   \n",
       "1  President of El Salvador, Nayib Bukele, reveal...   \n",
       "2  Stocks are close to record highs on Wall Stree...   \n",
       "3  Gold was benefiting from an exit from perceive...   \n",
       "4  Stocks tumbled and investors flocked to safe h...   \n",
       "\n",
       "                     date_time  \n",
       "0   November 22, 2021, 1:14 AM  \n",
       "1   November 22, 2021, 1:57 AM  \n",
       "2   November 22, 2021, 2:41 AM  \n",
       "3   November 26, 2021, 2:22 AM  \n",
       "4  November 26, 2021, 12:42 AM  "
      ]
     },
     "execution_count": 21,
     "metadata": {},
     "output_type": "execute_result"
    }
   ],
   "source": [
    "df.head()"
   ]
  },
  {
   "cell_type": "code",
   "execution_count": 22,
   "metadata": {},
   "outputs": [],
   "source": [
    "urls = df['url']"
   ]
  },
  {
   "cell_type": "code",
   "execution_count": 23,
   "metadata": {},
   "outputs": [],
   "source": [
    "seen = set()\n",
    "uniq = [x for x in urls if x in seen or seen.add(x)] "
   ]
  },
  {
   "cell_type": "code",
   "execution_count": 24,
   "metadata": {},
   "outputs": [
    {
     "data": {
      "text/plain": [
       "18"
      ]
     },
     "execution_count": 24,
     "metadata": {},
     "output_type": "execute_result"
    }
   ],
   "source": [
    "len(uniq)"
   ]
  },
  {
   "cell_type": "code",
   "execution_count": 25,
   "metadata": {},
   "outputs": [],
   "source": [
    "df = df.drop_duplicates()"
   ]
  },
  {
   "cell_type": "code",
   "execution_count": 26,
   "metadata": {},
   "outputs": [],
   "source": [
    "path = '/Users/sachaschwab/Dropbox/JCU/12 Master Class 1/Assessment 3/git_code/NLP-Clustering/data/raw_data.csv'\n",
    "df.to_csv(path)"
   ]
  },
  {
   "cell_type": "code",
   "execution_count": 27,
   "metadata": {},
   "outputs": [
    {
     "data": {
      "text/plain": [
       "394"
      ]
     },
     "execution_count": 27,
     "metadata": {},
     "output_type": "execute_result"
    }
   ],
   "source": [
    "len(df)"
   ]
  },
  {
   "cell_type": "code",
   "execution_count": null,
   "metadata": {},
   "outputs": [],
   "source": []
  }
 ],
 "metadata": {
  "kernelspec": {
   "display_name": "Python 3",
   "language": "python",
   "name": "python3"
  },
  "language_info": {
   "codemirror_mode": {
    "name": "ipython",
    "version": 3
   },
   "file_extension": ".py",
   "mimetype": "text/x-python",
   "name": "python",
   "nbconvert_exporter": "python",
   "pygments_lexer": "ipython3",
   "version": "3.7.7"
  }
 },
 "nbformat": 4,
 "nbformat_minor": 4
}
