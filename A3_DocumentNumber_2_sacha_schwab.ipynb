{
 "cells": [
  {
   "cell_type": "markdown",
   "metadata": {},
   "source": [
    "# <font color='darkblue'>MA5851 A3 Assessment Report Part Two </font>\n",
    "\n",
    "**<font color='darkblue'>Student: </font>Sacha Schwab**\n",
    "\n",
    "<font color='darkblue'>Location: </font>Zurich, Switzerland\n",
    "\n",
    "<font color='darkblue'>Date: </font>3 December 2021"
   ]
  },
  {
   "cell_type": "markdown",
   "metadata": {},
   "source": [
    "## <font color='darkblue'>Title</font>"
   ]
  },
  {
   "cell_type": "markdown",
   "metadata": {},
   "source": [
    "XYXY Text"
   ]
  },
  {
   "cell_type": "markdown",
   "metadata": {},
   "source": []
  },
  {
   "cell_type": "markdown",
   "metadata": {},
   "source": []
  },
  {
   "cell_type": "markdown",
   "metadata": {},
   "source": [
    "<h3 style=\"color:darkblue\">\n",
    "    Websites consumed\n",
    "</h3>\n",
    "\n",
    "<p style=\"line-height: 1.5; font-size:12pt\">\n",
    "\n",
    "</p>"
   ]
  },
  {
   "cell_type": "markdown",
   "metadata": {},
   "source": [
    "<h3 style=\"color:darkblue\">\n",
    "    Rationale for extraction\n",
    "</h3>\n",
    "\n",
    "<p style=\"line-height: 1.5; font-size:12pt\">\n",
    "asdf\n",
    "</p>"
   ]
  },
  {
   "cell_type": "markdown",
   "metadata": {},
   "source": [
    "<h3 style=\"color:darkblue\">\n",
    "    Donmains / Content coverage\n",
    "</h3>\n",
    "\n",
    "<p style=\"line-height: 1.5; font-size:12pt\">\n",
    "Identifies and discusses with justifications:\n",
    "\n",
    " Website URLs to be crawled\n",
    "\n",
    " Coverage of the chosen domains on the issue\n",
    "\n",
    " The Natural Language data, meta-data, or other data on each\n",
    "domain and how these data align to the issue\n",
    "\n",
    " Copyright of the chosen domains\n",
    "\n",
    "Discussions are in a complex data science related situation, drawing upon relevant theory from a wide range of credible sources; eliciting insightful knowledge linking to broader relationships and, bring in originality of perspective\n",
    "</p>"
   ]
  },
  {
   "cell_type": "markdown",
   "metadata": {},
   "source": [
    "<h3 style=\"color:darkblue\">\n",
    "    Complexity of the content layout\n",
    "</h3>\n",
    "\n",
    "<p style=\"line-height: 1.5; font-size:12pt\">\n",
    "asdf\n",
    "</p>"
   ]
  },
  {
   "cell_type": "markdown",
   "metadata": {},
   "source": [
    "<h3 style=\"color:darkblue\">\n",
    "    Copyright\n",
    "</h3>\n",
    "\n",
    "<p style=\"line-height: 1.5; font-size:12pt\">\n",
    "Neither yahoo.com nor its finance not cryptocurrency subsites contain any copyright notice, neither in the displayed page nor in the source file.\n",
    "</p>"
   ]
  },
  {
   "cell_type": "markdown",
   "metadata": {},
   "source": [
    "<h3 style=\"color:darkblue\">\n",
    "    Metadata supplementation\n",
    "</h3>\n",
    "\n",
    "<p style=\"line-height: 1.5; font-size:12pt\">\n",
    "asdf\n",
    "</p>"
   ]
  },
  {
   "cell_type": "markdown",
   "metadata": {},
   "source": [
    "<h3 style=\"color:darkblue\">\n",
    "    Content extractor / WebCrawler workflow\n",
    "</h3>\n",
    "\n",
    "<p style=\"line-height: 1.5; font-size:12pt\">\n",
    "Identifies and discusses with justifications:\n",
    "\n",
    " Technology components used for the web crawler\n",
    "\n",
    " Complexity of the domains and where the targeted data\n",
    "resides\n",
    "\n",
    "\n",
    " Sequencing of the crawler(s), using the complexity, data\n",
    "structures and website access restrictions to optimise\n",
    "the crawler\n",
    "\n",
    " Data storage\n",
    "</p>"
   ]
  },
  {
   "cell_type": "markdown",
   "metadata": {},
   "source": [
    "<h3 style=\"color:darkblue\">\n",
    "    Methodology of processing, cleaning, and storing harvested data for NLP\n",
    "tasking\n",
    "</h3>\n",
    "\n",
    "<p style=\"line-height: 1.5; font-size:12pt\">\n",
    "asdf\n",
    "</p>"
   ]
  },
  {
   "cell_type": "markdown",
   "metadata": {},
   "source": [
    "<h3 style=\"color:darkblue\">\n",
    "    Exploratory data analysis / Summary and visualisation of the harvested data.\n",
    "</h3>\n",
    "\n",
    "<p style=\"line-height: 1.5; font-size:12pt\">\n",
    "Identifies and discusses with justifications:\n",
    "\n",
    " Data wrangling of the raw corpus\n",
    "\n",
    " Summary of the generated corpus\n",
    "\n",
    " Visualisation of the corpus\n",
    "\n",
    " Descriptive statistics of the corpus\n",
    "</p>\n"
   ]
  },
  {
   "cell_type": "markdown",
   "metadata": {},
   "source": [
    "<h3 style=\"color:darkblue\">\n",
    "    Demonstration of the application of the WebCrawler\n",
    "</h3>\n",
    "\n",
    "<p style=\"line-height: 1.5; font-size:12pt\">\n",
    "screen shots...\n",
    "</p>"
   ]
  }
 ],
 "metadata": {
  "kernelspec": {
   "display_name": "Python 3",
   "language": "python",
   "name": "python3"
  },
  "language_info": {
   "codemirror_mode": {
    "name": "ipython",
    "version": 3
   },
   "file_extension": ".py",
   "mimetype": "text/x-python",
   "name": "python",
   "nbconvert_exporter": "python",
   "pygments_lexer": "ipython3",
   "version": "3.7.7"
  }
 },
 "nbformat": 4,
 "nbformat_minor": 4
}
