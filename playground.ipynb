{
 "cells": [
  {
   "cell_type": "code",
   "execution_count": 3,
   "metadata": {},
   "outputs": [],
   "source": [
    "# first, let's import the dependencies\n",
    "import nltk\n",
    "from nltk.probability import FreqDist\n",
    "p = [Hoi wie gahts dir so hüt, hüt gits dir nüt[]\n",
    " # wrong :(\n",
    "words = nltk.tokenize.word_tokenize(p)\n",
    "fdist = FreqDist(words)"
   ]
  },
  {
   "cell_type": "code",
   "execution_count": 4,
   "metadata": {},
   "outputs": [
    {
     "data": {
      "text/plain": [
       "FreqDist({'dir': 2, 'hüt': 2, 'Hoi': 1, 'wie': 1, 'gahts': 1, 'so': 1, ',': 1, 'gits': 1, 'nüt': 1})"
      ]
     },
     "execution_count": 4,
     "metadata": {},
     "output_type": "execute_result"
    }
   ],
   "source": [
    "fdist"
   ]
  },
  {
   "cell_type": "code",
   "execution_count": null,
   "metadata": {},
   "outputs": [],
   "source": []
  }
 ],
 "metadata": {
  "interpreter": {
   "hash": "ee56599a00031cb0632fb0309b730336b4a5a8f226c6551edf6ab1a3d47c5ca4"
  },
  "kernelspec": {
   "display_name": "Python 3.7.7 64-bit ('webcrawling': conda)",
   "language": "python",
   "name": "python3"
  },
  "language_info": {
   "codemirror_mode": {
    "name": "ipython",
    "version": 3
   },
   "file_extension": ".py",
   "mimetype": "text/x-python",
   "name": "python",
   "nbconvert_exporter": "python",
   "pygments_lexer": "ipython3",
   "version": "3.7.7"
  },
  "orig_nbformat": 4
 },
 "nbformat": 4,
 "nbformat_minor": 2
}
