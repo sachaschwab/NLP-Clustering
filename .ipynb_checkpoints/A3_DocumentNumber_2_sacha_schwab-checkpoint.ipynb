{
 "cells": [
  {
   "cell_type": "markdown",
   "metadata": {},
   "source": [
    "# <font color='darkblue'>MA5851 A3 Assessment Report Part Two (WebCrawler)</font>\n",
    "\n",
    "**<font color='darkblue'>Student: </font>Sacha Schwab**\n",
    "\n",
    "<font color='darkblue'>Location: </font>Zurich, Switzerland\n",
    "\n",
    "<font color='darkblue'>Date: </font>3 December 2021"
   ]
  },
  {
   "cell_type": "markdown",
   "metadata": {},
   "source": [
    "<h3 style=\"color:darkblue\">\n",
    "    a) Websites consumed\n",
    "</h3>\n",
    "\n",
    "<p style=\"line-height: 1.5; font-size:12pt\">\n",
    "    Yahoo Finance collects news articles from multiple sources such as Bloomberg and Reuters. The advantage is that the articles are presented in Yahoo's html format. Also, it features a \"Cryptocurrency\" news section. Therefore, and since I have not found or encountered any limitations to webcrawling, this resource appears appropriate for the task at hand.<br>\n",
    "<br>URLs:\n",
    "</p>\n",
    "<ul style=\"line-height: 1.5; font-size:12pt\">\n",
    "  <li>Main site: https://finance.yahoo.com/topic/crypto/</li>\n",
    "  <li>Individual articles may have different prefix urls, however the crawler is flexible in that regard, since the individual article URLs are extracted from the main site.</li>\n",
    "</ul>"
   ]
  },
  {
   "cell_type": "markdown",
   "metadata": {},
   "source": [
    "<h3 style=\"color:darkblue\">\n",
    "    b) Rationale for extraction\n",
    "</h3>\n",
    "\n",
    "<p style=\"line-height: 1.5; font-size:12pt\">\n",
    "    The aim of this project requires not only the gathering of high-quality news text, but also to achieve a corpus of the size indicated in the assessment outline, i.e. a minimum of 100-300 documents, since the texts appear medium sized. Further, it is beneficial to collect article texts from various domains so to avoid uniformity of the format i.e. to produce a model that covers a wider range of text structure and lengths. Yahoo Finance ticks all these requirements and therefore appears to be a valid choice.</p>"
   ]
  },
  {
   "cell_type": "markdown",
   "metadata": {},
   "source": [
    "<h3 style=\"color:darkblue\">\n",
    "    c) Content coverage\n",
    "</h3>\n",
    "\n",
    "<p style=\"line-height: 1.5; font-size:12pt\">\n",
    "    A preliminary manual review of Yahoo Finance (Cryptocurrencies) revealed that the number and range of articles appears interesting, since it features not only brief market event comments (such as with Bloomberg) but also developing stories. This covers the purpose of this project, i.e. to provide per-event-clustering of news articles.</p>"
   ]
  },
  {
   "cell_type": "markdown",
   "metadata": {},
   "source": [
    "<h3 style=\"color:darkblue\">\n",
    "    d) Complexity of the content layout\n",
    "</h3>\n",
    "\n",
    "<p style=\"line-height: 1.5; font-size:12pt\">\n",
    "    The complexity </p>\n",
    "\n",
    "\n"
   ]
  },
  {
   "cell_type": "markdown",
   "metadata": {},
   "source": []
  },
  {
   "cell_type": "code",
   "execution_count": null,
   "metadata": {},
   "outputs": [],
   "source": []
  },
  {
   "cell_type": "markdown",
   "metadata": {},
   "source": [
    "<b style=\"line-height: 1.5; font-size:12pt\"> Website URLs to be crawled: </b><br>\n"
   ]
  },
  {
   "cell_type": "code",
   "execution_count": null,
   "metadata": {},
   "outputs": [],
   "source": [
    "<b style=\"line-height: 1.5; font-size:12pt\"> Permitted guidelines check: </b><br>\n",
    "<ul style=\"line-height: 1.5; font-size:12pt\">\n",
    "  <li>Public data only: Yahoo.com is public. There is no walled garden, and neither is it a paid service.</li>\n",
    "  <li>Previously allowed: A large number of resources was found on scraping Yahoo.com content; it therefore appears that Yahoo implicitly allows webcrawling.</li>\n",
    "  <li>Non-copyright-protected content: The content under the above mentioned URL does not contain any copyright protection notice and, at the time of issuing this report, it was not found under the CloudFlare protected website search. </li>\n",
    "</ul>"
   ]
  },
  {
   "cell_type": "code",
   "execution_count": null,
   "metadata": {},
   "outputs": [],
   "source": []
  },
  {
   "cell_type": "code",
   "execution_count": null,
   "metadata": {},
   "outputs": [],
   "source": []
  },
  {
   "cell_type": "code",
   "execution_count": null,
   "metadata": {},
   "outputs": [],
   "source": [
    "**The Natural Language data, meta-data, or other data on each domain and how these data align to the issue**\n",
    "**Permitted guidelines check**\n",
    "* Public data / Copyright: The content above indicated url is public; no copyright notice was found\n",
    "* \n",
    "Discussions are in a complex data science related situation, drawing upon relevant theory from a wide range of credible sources; eliciting insightful knowledge linking to broader relationships and, bring in originality of perspective"
   ]
  },
  {
   "cell_type": "code",
   "execution_count": null,
   "metadata": {},
   "outputs": [],
   "source": []
  },
  {
   "cell_type": "markdown",
   "metadata": {},
   "source": [
    "<h3 style=\"color:darkblue\">\n",
    "    Copyright\n",
    "</h3>\n",
    "\n",
    "<p style=\"line-height: 1.5; font-size:12pt\">\n",
    "Neither yahoo.com nor its finance not cryptocurrency subsites contain any copyright notice, neither in the displayed page nor in the source file.\n",
    "</p>"
   ]
  },
  {
   "cell_type": "code",
   "execution_count": null,
   "metadata": {},
   "outputs": [],
   "source": []
  },
  {
   "cell_type": "code",
   "execution_count": null,
   "metadata": {},
   "outputs": [],
   "source": []
  },
  {
   "cell_type": "markdown",
   "metadata": {},
   "source": [
    "<h3 style=\"color:darkblue\">\n",
    "    Metadata supplementation\n",
    "</h3>\n",
    "\n",
    "<p style=\"line-height: 1.5; font-size:12pt\">\n",
    "asdf\n",
    "</p>"
   ]
  },
  {
   "cell_type": "markdown",
   "metadata": {},
   "source": [
    "<h3 style=\"color:darkblue\">\n",
    "    Content extractor / WebCrawler workflow\n",
    "</h3>\n",
    "\n",
    "<p style=\"line-height: 1.5; font-size:12pt\">\n",
    "Identifies and discusses with justifications:\n",
    "\n",
    " Technology components used for the web crawler\n",
    "\n",
    " Complexity of the domains and where the targeted data\n",
    "resides\n",
    "\n",
    "\n",
    " Sequencing of the crawler(s), using the complexity, data\n",
    "structures and website access restrictions to optimise\n",
    "the crawler\n",
    "\n",
    " Data storage\n",
    "</p>"
   ]
  },
  {
   "cell_type": "markdown",
   "metadata": {},
   "source": [
    "<h3 style=\"color:darkblue\">\n",
    "    Methodology of processing, cleaning, and storing harvested data for NLP\n",
    "tasking\n",
    "</h3>\n",
    "\n",
    "<p style=\"line-height: 1.5; font-size:12pt\">\n",
    "asdf\n",
    "</p>"
   ]
  },
  {
   "cell_type": "markdown",
   "metadata": {},
   "source": [
    "<h3 style=\"color:darkblue\">\n",
    "    Exploratory data analysis / Summary and visualisation of the harvested data.\n",
    "</h3>\n",
    "\n",
    "<p style=\"line-height: 1.5; font-size:12pt\">\n",
    "Identifies and discusses with justifications:\n",
    "\n",
    " Data wrangling of the raw corpus\n",
    "\n",
    " Summary of the generated corpus\n",
    "\n",
    " Visualisation of the corpus\n",
    "\n",
    " Descriptive statistics of the corpus\n",
    "</p>\n"
   ]
  },
  {
   "cell_type": "markdown",
   "metadata": {},
   "source": [
    "<h3 style=\"color:darkblue\">\n",
    "    Demonstration of the application of the WebCrawler\n",
    "</h3>\n",
    "\n",
    "<p style=\"line-height: 1.5; font-size:12pt\">\n",
    "screen shots...\n",
    "</p>"
   ]
  }
 ],
 "metadata": {
  "kernelspec": {
   "display_name": "Python 3",
   "language": "python",
   "name": "python3"
  },
  "language_info": {
   "codemirror_mode": {
    "name": "ipython",
    "version": 3
   },
   "file_extension": ".py",
   "mimetype": "text/x-python",
   "name": "python",
   "nbconvert_exporter": "python",
   "pygments_lexer": "ipython3",
   "version": "3.7.7"
  }
 },
 "nbformat": 4,
 "nbformat_minor": 4
}
